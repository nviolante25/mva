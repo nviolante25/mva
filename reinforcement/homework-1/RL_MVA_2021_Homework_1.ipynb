{
  "nbformat": 4,
  "nbformat_minor": 0,
  "metadata": {
    "colab": {
      "name": "RL-MVA_2021-Homework_1.ipynb",
      "provenance": [],
      "collapsed_sections": []
    },
    "kernelspec": {
      "name": "python3",
      "display_name": "Python 3"
    },
    "language_info": {
      "name": "python"
    }
  },
  "cells": [
    {
      "cell_type": "markdown",
      "metadata": {
        "id": "IAE8kMxe6E6k"
      },
      "source": [
        "# MVA - Homework 1 - Reinforcement Learning (2021/2022)\n",
        "\n",
        "**Name:** VIOLANTE Nicolás\n"
      ]
    },
    {
      "cell_type": "markdown",
      "metadata": {
        "id": "vY4MH0nU637o"
      },
      "source": [
        "## Instructions\n",
        "\n",
        "* The deadline is **November 12 at 11:59 pm (Paris time).**\n",
        "\n",
        "* By doing this homework you agree to the late day policy, collaboration and misconduct rules reported on [Piazza](https://piazza.com/class/ktmvsc4knke4ia?cid=6).\n",
        "\n",
        "* **Mysterious or unsupported answers will not receive full credit**. A correct answer, unsupported by calculations, explanation, or algebraic work will receive no credit; an incorrect answer supported by substantially correct calculations and explanations might still receive partial credit.\n",
        "\n",
        "* Answers should be provided in **English**."
      ]
    },
    {
      "cell_type": "markdown",
      "metadata": {
        "id": "YB__2uUC5U1r"
      },
      "source": [
        "# Colab setup"
      ]
    },
    {
      "cell_type": "code",
      "metadata": {
        "id": "2XNj1_VZ2FGJ",
        "colab": {
          "base_uri": "https://localhost:8080/"
        },
        "outputId": "d9f4328f-b5b7-425b-cf63-a04ba29b78ba"
      },
      "source": [
        "from IPython import get_ipython\n",
        "\n",
        "if 'google.colab' in str(get_ipython()):\n",
        "  # install rlberry library\n",
        "  !pip install git+https://github.com/rlberry-py/rlberry.git@mva2021#egg=rlberry[default] > /dev/null 2>&1\n",
        "\n",
        "  # install ffmpeg-python for saving videos\n",
        "  !pip install ffmpeg-python > /dev/null 2>&1\n",
        "\n",
        "  # packages required to show video\n",
        "  !pip install pyvirtualdisplay > /dev/null 2>&1\n",
        "  !apt-get install -y xvfb python-opengl ffmpeg > /dev/null 2>&1\n",
        "\n",
        "  print(\"Libraries installed, please restart the runtime!\")\n"
      ],
      "execution_count": null,
      "outputs": [
        {
          "output_type": "stream",
          "name": "stdout",
          "text": [
            "Libraries installed, please restart the runtime!\n"
          ]
        }
      ]
    },
    {
      "cell_type": "code",
      "metadata": {
        "id": "s8F7RiPXjutB"
      },
      "source": [
        "# Create directory for saving videos\n",
        "!mkdir videos > /dev/null 2>&1\n",
        "\n",
        "# Initialize display and import function to show videos\n",
        "import rlberry.colab_utils.display_setup\n",
        "from rlberry.colab_utils.display_setup import show_video"
      ],
      "execution_count": null,
      "outputs": []
    },
    {
      "cell_type": "code",
      "metadata": {
        "id": "KISV44N_nCNm"
      },
      "source": [
        "# Useful libraries\n",
        "import numpy as np\n",
        "import matplotlib.pyplot as plt"
      ],
      "execution_count": null,
      "outputs": []
    },
    {
      "cell_type": "markdown",
      "metadata": {
        "id": "L4hKBRTCh6Gk"
      },
      "source": [
        "# Preparation\n",
        "\n",
        "In the coding exercises, you will use a *grid-world* MDP, which is represented in Python using the interface provided by the [Gym](https://gym.openai.com/) library. The cells below show how to interact with this MDP and how to visualize it.\n"
      ]
    },
    {
      "cell_type": "code",
      "metadata": {
        "id": "514mHDeQooKa"
      },
      "source": [
        "from rlberry.envs import GridWorld\n",
        "\n",
        "def get_env():\n",
        "  \"\"\"Creates an instance of a grid-world MDP.\"\"\"\n",
        "  env = GridWorld(\n",
        "      nrows=5,\n",
        "      ncols=7,\n",
        "      reward_at = {(0, 6):1.0},\n",
        "      walls=((0, 4), (1, 4), (2, 4), (3, 4)),\n",
        "      success_probability=0.9,\n",
        "      terminal_states=((0, 6),)\n",
        "  )\n",
        "  return env\n",
        "\n",
        "def render_policy(env, policy=None, horizon=50):\n",
        "  \"\"\"Visualize a policy in an environment\n",
        "\n",
        "  Args:\n",
        "    env: GridWorld\n",
        "        environment where to run the policy\n",
        "    policy: np.array\n",
        "        matrix mapping states to action (Ns).\n",
        "        If None, runs random policy.\n",
        "    horizon: int\n",
        "        maximum number of timesteps in the environment.\n",
        "  \"\"\"\n",
        "  env.enable_rendering()\n",
        "  state = env.reset()                       # get initial state\n",
        "  for timestep in range(horizon):\n",
        "      if policy is None:\n",
        "        action = env.action_space.sample()  # take random actions\n",
        "      else:\n",
        "        action = policy[state]\n",
        "      next_state, reward, is_terminal, info = env.step(action)\n",
        "      state = next_state\n",
        "      if is_terminal:\n",
        "        break\n",
        "  # save video and clear buffer\n",
        "  env.save_video('./videos/gw.mp4', framerate=5)\n",
        "  env.clear_render_buffer()\n",
        "  env.disable_rendering()\n",
        "  # show video\n",
        "  show_video('./videos/gw.mp4')\n"
      ],
      "execution_count": null,
      "outputs": []
    },
    {
      "cell_type": "code",
      "metadata": {
        "id": "hQAHUBw_ifMI",
        "colab": {
          "base_uri": "https://localhost:8080/",
          "height": 538
        },
        "outputId": "9f7025c6-1c07-4676-a5fa-daddd212264a"
      },
      "source": [
        "# Create an environment and visualize it\n",
        "env = get_env()\n",
        "render_policy(env)  # visualize random policy\n",
        "\n",
        "# The reward function and transition probabilities can be accessed through\n",
        "# the R and P attributes:\n",
        "print(f\"Shape of the reward array = (S, A) = {env.R.shape}\")\n",
        "print(f\"Shape of the transition array = (S, A, S) = {env.P.shape}\")\n",
        "print(f\"Reward at (s, a) = (1, 0): {env.R[1, 0]}\")\n",
        "print(f\"Prob[s\\'=2 | s=1, a=0]: {env.P[1, 0, 2]}\")\n",
        "print(f\"Number of states and actions: {env.Ns}, {env.Na}\")\n",
        "\n",
        "# The states in the griworld correspond to (row, col) coordinates.\n",
        "# The environment provides a mapping between (row, col) and the index of\n",
        "# each state:\n",
        "print(f\"Index of state (1, 0): {env.coord2index[(1, 0)]}\")\n",
        "print(f\"Coordinates of state 5: {env.index2coord[5]}\")"
      ],
      "execution_count": null,
      "outputs": [
        {
          "output_type": "display_data",
          "data": {
            "text/html": [
              "<video alt=\"videos/gw.mp4\" autoplay\n",
              "                      loop controls style=\"height: 400px;\">\n",
              "                    <source src=\"data:video/mp4;base64,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\" type=\"video/mp4\" />\n",
              "                 </video>"
            ],
            "text/plain": [
              "<IPython.core.display.HTML object>"
            ]
          },
          "metadata": {}
        },
        {
          "output_type": "stream",
          "name": "stdout",
          "text": [
            "Shape of the reward array = (S, A) = (31, 4)\n",
            "Shape of the transition array = (S, A, S) = (31, 4, 31)\n",
            "Reward at (s, a) = (1, 0): 0.0\n",
            "Prob[s'=2 | s=1, a=0]: 0.04999999999999999\n",
            "Number of states and actions: 31, 4\n",
            "Index of state (1, 0): 6\n",
            "Coordinates of state 5: (0, 6)\n"
          ]
        }
      ]
    },
    {
      "cell_type": "markdown",
      "metadata": {
        "id": "ibGD_3I89CNu"
      },
      "source": [
        "# Part 1 - Dynamic Programming"
      ]
    },
    {
      "cell_type": "markdown",
      "metadata": {
        "id": "NR7h5won9NQY"
      },
      "source": [
        "## Question 1.1\n",
        "\n",
        "Consider a general MDP with a discount factor of $\\gamma < 1$. Assume that the horizon is infinite (so there is no termination). A policy $\\pi$ in this MDP\n",
        "induces a value function $V^\\pi$. Suppose an affine transformation is applied to the reward, what is\n",
        "the new value function? Is the optimal policy preserved?\n",
        "\n"
      ]
    },
    {
      "cell_type": "markdown",
      "metadata": {
        "id": "313W4K3B_LtN"
      },
      "source": [
        "### **Answer**\n",
        "\n",
        "a) If we apply an affine transformation $f(x) = \\alpha x + \\beta$ ,with $\\alpha, \\beta \\in \\mathbb{R} $, to the original reward $r_1(s_t, a_t)$, the new value function $v_2^\\pi (s)$ is written as\n",
        "\n",
        "$v_2^\\pi (s) = \\mathbb{E}_\\pi[\\sum_{t=0}^\\infty \\gamma^t(\\alpha r_1(s_t, a_t) + \\beta) | S_0 = s]$.\n",
        "\n",
        "$v_2^\\pi (s) =  \\alpha\\mathbb{E}_\\pi[\\sum_{t=0}^\\infty \\gamma^tr_1(s_t, a_t) | S_0 = s] + \\beta \\sum_{t=0}^\\infty \\gamma^t$ \n",
        "\n",
        "$v_2^\\pi (s) = \\alpha v_1^\\pi (s) + \\frac{\\beta}{1-\\gamma}$\n",
        "\n",
        "b) The optimal value for a given state is\n",
        "\n",
        "$v_2^*(s) = \\max_\\pi v_2^\\pi(s)$\n",
        "\n",
        "$v_2^*(s) = \\max_\\pi \\{\\alpha v_1^\\pi(s) + \\frac{\\beta}{1-\\gamma} \\}$\n",
        "\n",
        "$v_2^*(s) = \\max_\\pi \\{\\alpha v_1^\\pi(s)\\} + \\frac{\\beta}{1-\\gamma}$\n",
        "\n",
        "Rember that $v_1^*(s) = \\max_\\pi \\{v_1^\\pi(s)\\}$. Therefore, if $\\alpha > 0$ the optimal policy is preserved for all $\\beta$. Note that in this case we have $v_2^*(s) = \\alpha \\max_\\pi \\{v_1^\\pi(s)\\} + \\frac{\\beta}{1-\\gamma}$, thus the optimal policy is the same as before.\n",
        "\n",
        "Conversely, if $\\alpha < 0$ the optimal policy is not preserved since in this case we have $v_2^*(s) = |\\alpha| \\min_\\pi \\{v_1^\\pi(s)\\} + \\frac{\\beta}{1-\\gamma}$\n",
        "\n",
        " The case $\\alpha = 0$ is a special one where $v_2^*(s) = \\frac{\\beta}{1-\\gamma}$ for all policies.\n",
        "\n"
      ]
    },
    {
      "cell_type": "markdown",
      "metadata": {
        "id": "0uCVgkDo9vTM"
      },
      "source": [
        "## Question 1.2\n",
        "\n",
        "Consider an infinite-horizon $\\gamma$-discounted MDP. We denote by $Q^*$ the $Q$-function of the optimal policy $\\pi^*$. Prove that, for any function $Q(s, a)$ (which is **not** necessarily the value function of a policy), the following inequality holds for any state $s$:\n",
        "\n",
        "$$\n",
        "V^{\\pi_Q}(s) \\geq V^*(s) - \\frac{2}{1-\\gamma}||Q^*-Q||_\\infty,\n",
        "$$\n",
        "\n",
        "where $||Q^*-Q||_\\infty = \\max_{s, a} |Q^*(s, a) - Q(s, a)|$ and $\\pi_Q(s) \\in \\arg\\max_a Q(s, a)$. Can you use this result to show that any policy $\\pi$ such that $\\pi(s) \\in \\arg\\max_a Q^*(s, a)$ is optimal?"
      ]
    },
    {
      "cell_type": "markdown",
      "metadata": {
        "id": "8MqGWPPD_OAI"
      },
      "source": [
        "### **Answer**\n",
        "a)\n",
        "\n",
        "\n",
        "$V^*(s) - V^{\\pi_Q}(s) = (V^*(s) - Q(s, \\pi_Q(s))) + (Q(s, \\pi_Q(s)) - \\mathcal{T}^{\\pi_Q}V^*(s)) + (\\mathcal{T}^{\\pi_Q}V^*(s) - \\mathcal{T}^{\\pi_Q}V^{\\pi_Q}(s))$\n",
        "\n",
        "Where we used $\\mathcal{T}^{\\pi_Q}V^{\\pi_Q}(s) = V^{\\pi_Q}(s)$ for the very last term.\n",
        "\n",
        "Note that $\\mathcal{T}^{\\pi_Q}V^*(s) = r(s, \\pi_Q(s)) + \\gamma\\sum_yp(y|s,\\pi_Q(s))V^*(y) = Q^*(s, \\pi_Q(s))$\n",
        "\n",
        "Now we write\n",
        "\n",
        "$\\max_s|V^*(s) - V^{\\pi_Q}(s)| \\leq \\max_s|V^*(s) - Q(s, \\pi_Q(s))| + \\max_s|Q(s, \\pi_Q(s)) - Q^*(s, \\pi_Q(s))| + \\max_s|\\mathcal{T}^{\\pi_Q}V^*(s) - \\mathcal{T}^{\\pi_Q}V^{\\pi_Q}(s))|$\n",
        "\n",
        "\n",
        "\n",
        "- Since $V^*(s) = \\max_aQ^*(s,a)$ we have:\n",
        "\n",
        "$\\max_s|V^*(s) - Q(s, \\pi_Q(s))| = \\max_s| \\max_aQ^*(s,a) - Q(s, \\pi_Q(s))| \\leq \\max_{s,a}|Q^*(s,a) - Q(s,a) |$\n",
        "\n",
        "- Similarly we also have:\n",
        "\n",
        "$\\max_s|Q(s, \\pi_Q(s)) - Q^*(s, \\pi_Q(s))| \\leq \\max_{s,a}|Q^*(s,a) - Q(s,a)|$\n",
        "\n",
        "- Since $\\mathcal{T}^{\\pi_Q}$ is a $\\gamma$-contraction\n",
        "\n",
        "$\\max_s|\\mathcal{T}^{\\pi_Q}V^*(s) - \\mathcal{T}^{\\pi_Q}V^{\\pi_Q}(s))| \\leq \\gamma \\max_s|V^*(s) - V^{\\pi_Q}(s))|$\n",
        "\n",
        "\n",
        "Using these last three results we have:\n",
        "\n",
        "$\\max_s|V^*(s) - V^{\\pi_Q}(s)| \\leq \\gamma \\max_s|V^*(s) - V^{\\pi_Q}(s))| + 2|| Q^*(s,a) - Q(s,a) ||_\\infty$\n",
        "\n",
        "\n",
        "$\\max_s|V^*(s) - V^{\\pi_Q}(s)| \\leq \\frac{2}{1-\\gamma}|| Q^*(s,a) - Q(s,a) ||_\\infty$\n",
        "\n",
        "\n",
        "\n",
        "Finally, Since this is valid for the max on $s$ on the left side and by defintios of optimal policy $V^*(s) \\geq V^{\\pi_Q}(s)$ we can write:\n",
        "\n",
        "$V^*(s) - V^{\\pi_Q}(s) \\leq \\frac{2}{1-\\gamma}|| Q^*(s,a) - Q(s,a) ||_\\infty$\n",
        "\n",
        "b)\n",
        "\n",
        "In this case we have $V^\\pi(s) \\geq V^*(s)$ for all $s$. Then, since $V^*$ is optimal  $V^\\pi(s) \\leq V^*(s)$, so  $V^\\pi(s) = V^*(s)$. Then $\\pi$ is by definition an optimal policy.\n",
        "\n",
        "\n",
        "\n"
      ]
    },
    {
      "cell_type": "markdown",
      "metadata": {
        "id": "yIrtb7sihYcM"
      },
      "source": [
        "## Question 1.3\n",
        "\n",
        "In this question, you will implement and compare the policy and value iteration algorithms for a finite MDP. \n",
        "\n",
        "Complete the functions `policy_evaluation`, `policy_iteration` and `value_iteration` below.\n",
        "\n",
        "\n",
        "Compare value iteration and policy iteration. Highlight pros and cons of each method."
      ]
    },
    {
      "cell_type": "markdown",
      "metadata": {
        "id": "GLmQtk-wt0HS"
      },
      "source": [
        "### **Answer**\n",
        "\n",
        "The main differences between Value Iteration and Policy Iteration are:\n",
        "\n",
        "Value iteration\n",
        "- Pros: Each step is computationally efficient\n",
        "- Cons: Converges asymptotically\n",
        "\n",
        "Policy iteration:\n",
        "- Pros: Converges in a finite number of iterations\n",
        "- Cons: Each step involves solving a linear system for policy evaluation, which may be expensive is the system is too large."
      ]
    },
    {
      "cell_type": "code",
      "metadata": {
        "id": "9yI0YYtMmpDQ"
      },
      "source": [
        "def policy_evaluation(P, R, policy, gamma=0.9, tol=1e-2):\n",
        "    \"\"\"\n",
        "    Args:\n",
        "        P: np.array\n",
        "            transition matrix (NsxNaxNs)\n",
        "        R: np.array\n",
        "            reward matrix (NsxNa)\n",
        "        policy: np.array\n",
        "            matrix mapping states to action (Ns)\n",
        "        gamma: float\n",
        "            discount factor\n",
        "        tol: float\n",
        "            precision of the solution\n",
        "    Return:\n",
        "        value_function: np.array\n",
        "            The value function of the given policy\n",
        "    \"\"\"\n",
        "    Ns, Na = R.shape\n",
        "    # ====================================================\n",
        "    states = np.arange(Ns)\n",
        "    R_pi = R[states, policy]\n",
        "    P_pi = P[states, policy, :]\n",
        "    value_function = np.linalg.inv(np.eye(Ns) - gamma * P_pi) @ R_pi\n",
        "\n",
        "    # ====================================================\n",
        "    return value_function"
      ],
      "execution_count": null,
      "outputs": []
    },
    {
      "cell_type": "code",
      "metadata": {
        "id": "ncqbPx99ncVY"
      },
      "source": [
        "def policy_iteration(P, R, gamma=0.9, tol=1e-3):\n",
        "    \"\"\"\n",
        "    Args:\n",
        "        P: np.array\n",
        "            transition matrix (NsxNaxNs)\n",
        "        R: np.array\n",
        "            reward matrix (NsxNa)\n",
        "        gamma: float\n",
        "            discount factor\n",
        "        tol: float\n",
        "            precision of the solution\n",
        "    Return:\n",
        "        policy: np.array\n",
        "            the final policy\n",
        "        V: np.array\n",
        "            the value function associated to the final policy\n",
        "    \"\"\"\n",
        "    Ns, Na = R.shape\n",
        "    V = np.zeros(Ns)\n",
        "    policy = np.ones(Ns, dtype=np.int)\n",
        "    # ====================================================\n",
        "    stop_criterium_met = False\n",
        "    states = np.arange(Ns)\n",
        "    while not stop_criterium_met:\n",
        "        policy_prev = policy.copy()\n",
        "        V = policy_evaluation(P, R, policy, gamma, tol)\n",
        "        policy = np.argmax(R + gamma * P @ V, axis=1)\n",
        "        stop_criterium_met = np.all(policy == policy_prev)\n",
        "    # ====================================================\n",
        "    return policy, V"
      ],
      "execution_count": null,
      "outputs": []
    },
    {
      "cell_type": "code",
      "metadata": {
        "id": "3jB7dfA5nRCZ"
      },
      "source": [
        "def value_iteration(P, R, gamma=0.9, tol=1e-3):\n",
        "    \"\"\"\n",
        "    Args:\n",
        "        P: np.array\n",
        "            transition matrix (NsxNaxNs)\n",
        "        R: np.array\n",
        "            reward matrix (NsxNa)\n",
        "        gamma: float\n",
        "            discount factor\n",
        "        tol: float\n",
        "            precision of the solution\n",
        "    Return:\n",
        "        Q: final Q-function (at iteration n)\n",
        "        greedy_policy: greedy policy wrt Qn\n",
        "        Qfs: all Q-functions generated by the algorithm (for visualization)\n",
        "    \"\"\"\n",
        "    Ns, Na = R.shape\n",
        "    Q = np.zeros((Ns, Na))\n",
        "    Qfs = [Q]\n",
        "    # ====================================================\n",
        "\t# 1) Find Q optimal by applying iteratively the Bellman Optimality Operator\n",
        "    stop_criterium_met = False\n",
        "    while not stop_criterium_met:\n",
        "        prev_Q = Q.copy()\n",
        "        Q = R + gamma * (P @ np.max(Q, axis=1))\n",
        "        Qfs.append(Q)\n",
        "        stop_criterium_met = np.linalg.norm(Q - prev_Q, ord=np.inf) < tol\n",
        "\n",
        "    # 2) Derive greedy policy from the last Q\n",
        "    greedy_policy = np.argmax(Q, axis=1)\n",
        "    # ====================================================\n",
        "    return Q, greedy_policy, Qfs"
      ],
      "execution_count": null,
      "outputs": []
    },
    {
      "cell_type": "markdown",
      "metadata": {
        "id": "-Fi0IzZJp74Z"
      },
      "source": [
        "### Testing your code"
      ]
    },
    {
      "cell_type": "code",
      "metadata": {
        "id": "P7JKrc1oqFI2",
        "colab": {
          "base_uri": "https://localhost:8080/",
          "height": 1000
        },
        "outputId": "cb01df95-0ff1-4212-e15a-01937e2b8b99"
      },
      "source": [
        "# Parameters\n",
        "tol = 1e-5\n",
        "gamma = 0.99\n",
        "\n",
        "# Environment\n",
        "env = get_env()\n",
        "\n",
        "# run value iteration to obtain Q-values\n",
        "VI_Q, VI_greedypol, all_qfunctions = value_iteration(env.P, env.R, gamma=gamma, tol=tol)\n",
        "\n",
        "# render the policy\n",
        "print(\"[VI]Greedy policy: \")\n",
        "render_policy(env, VI_greedypol)\n",
        "\n",
        "# compute the value function of the greedy policy using matrix inversion\n",
        "# ====================================================\n",
        "# YOUR IMPLEMENTATION HERE \n",
        "# compute value function of the greedy policy\n",
        "#\n",
        "greedy_V = policy_evaluation(env.P, env.R, VI_greedypol, gamma, tol)\n",
        "\n",
        "# ====================================================\n",
        "\n",
        "# show the error between the computed V-functions and the final V-function\n",
        "# (that should be the optimal one, if correctly implemented)\n",
        "# as a function of time\n",
        "final_V = all_qfunctions[-1].max(axis=1)\n",
        "norms = [ np.linalg.norm(q.max(axis=1) - final_V) for q in all_qfunctions]\n",
        "plt.plot(norms)\n",
        "plt.xlabel('Iteration')\n",
        "plt.ylabel('Error')\n",
        "plt.title(\"Value iteration: convergence\")\n",
        "\n",
        "#### POLICY ITERATION ####\n",
        "PI_policy, PI_V = policy_iteration(env.P, env.R, gamma=gamma, tol=tol)\n",
        "print(\"\\n[PI]final policy: \")\n",
        "render_policy(env, PI_policy)\n",
        "\n",
        "## Uncomment below to check that everything is correct\n",
        "assert np.allclose(PI_policy, VI_greedypol),\\\n",
        "    \"You should check the code, the greedy policy computed by VI is not equal to the solution of PI\"\n",
        "assert np.allclose(PI_V, greedy_V),\\\n",
        "    \"Since the policies are equal, even the value function should be\"\n",
        "\n",
        "plt.show()"
      ],
      "execution_count": null,
      "outputs": [
        {
          "output_type": "stream",
          "name": "stdout",
          "text": [
            "[VI]Greedy policy: \n"
          ]
        },
        {
          "output_type": "display_data",
          "data": {
            "text/html": [
              "<video alt=\"videos/gw.mp4\" autoplay\n",
              "                      loop controls style=\"height: 400px;\">\n",
              "                    <source src=\"data:video/mp4;base64,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\" type=\"video/mp4\" />\n",
              "                 </video>"
            ],
            "text/plain": [
              "<IPython.core.display.HTML object>"
            ]
          },
          "metadata": {}
        },
        {
          "output_type": "stream",
          "name": "stdout",
          "text": [
            "\n",
            "[PI]final policy: \n"
          ]
        },
        {
          "output_type": "display_data",
          "data": {
            "text/html": [
              "<video alt=\"videos/gw.mp4\" autoplay\n",
              "                      loop controls style=\"height: 400px;\">\n",
              "                    <source src=\"data:video/mp4;base64,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\" type=\"video/mp4\" />\n",
              "                 </video>"
            ],
            "text/plain": [
              "<IPython.core.display.HTML object>"
            ]
          },
          "metadata": {}
        },
        {
          "output_type": "display_data",
          "data": {
            "image/png": "[encoded data removed]",
            "text/plain": [
              "<Figure size 432x288 with 1 Axes>"
            ]
          },
          "metadata": {
            "needs_background": "light"
          }
        }
      ]
    },
    {
      "cell_type": "markdown",
      "metadata": {
        "id": "2V1QdoH-xFX0"
      },
      "source": [
        "# Part 2 - Tabular RL"
      ]
    },
    {
      "cell_type": "markdown",
      "metadata": {
        "id": "Qf51VhoPxbV4"
      },
      "source": [
        "## Question 2.1\n",
        "\n",
        "The code below collects two datasets of transitions (containing states, actions, rewards and next states) for a discrete MDP.\n",
        "\n",
        "For each of the datasets:\n",
        "\n",
        "1. Estimate the transitions and rewards, $\\hat{P}$ and $\\hat{R}$.\n",
        "2. Compute the optimal value function and the optimal policy with respect to the estimated MDP (defined by $\\hat{P}$ and $\\hat{R}$), which we denote by $\\hat{\\pi}$ and $\\hat{V}$.\n",
        "3. Numerically compare the performance of $\\hat{\\pi}$ and $\\pi^\\star$ (the true optimal policy), and the error between $\\hat{V}$ and $V^*$ (the true optimal value function).\n",
        "\n",
        "Which of the two data collection methods do you think is better? Why?"
      ]
    },
    {
      "cell_type": "markdown",
      "metadata": {
        "id": "eWSyewG2EZpJ"
      },
      "source": [
        "### **Answer**\n",
        "\n",
        "The second method, uniformly sampling, is better because it allow us to explore more state-action pairs, in particular pairs with high reward. Following a random policy doesn't ensure that we will get a representative sample of all state-action pairs. This is especially harmful in the gridworld example, where most of the states give zero reward. We want to make sure that we visit states with high reward, so a uniform sampling is better because we have more chances of sampling a high reward state by uniformly sampling than following some random policy and hoping to get to the high reward state."
      ]
    },
    {
      "cell_type": "code",
      "metadata": {
        "id": "8lNPhB28EcGd"
      },
      "source": [
        "def get_random_policy_dataset(env, n_samples):\n",
        "  \"\"\"Get a dataset following a random policy to collect data.\"\"\"\n",
        "  states = []\n",
        "  actions = []\n",
        "  rewards = []\n",
        "  next_states = []\n",
        "  \n",
        "  state = env.reset()\n",
        "  for _ in range(n_samples):\n",
        "    action = env.action_space.sample()\n",
        "    next_state, reward, is_terminal, info = env.step(action)\n",
        "    states.append(state)\n",
        "    actions.append(action)\n",
        "    rewards.append(reward)\n",
        "    next_states.append(next_state)\n",
        "    # update state\n",
        "    state = next_state\n",
        "    if is_terminal:\n",
        "      state = env.reset()\n",
        "\n",
        "  dataset = (states, actions, rewards, next_states)\n",
        "  return dataset\n",
        "\n",
        "def get_uniform_dataset(env, n_samples):\n",
        "  \"\"\"Get a dataset by uniformly sampling states and actions.\"\"\"\n",
        "  states = []\n",
        "  actions = []\n",
        "  rewards = []\n",
        "  next_states = []\n",
        "  for _ in range(n_samples):\n",
        "    state = env.observation_space.sample()\n",
        "    action = env.action_space.sample()\n",
        "    next_state, reward, is_terminal, info = env.sample(state, action)\n",
        "    states.append(state)\n",
        "    actions.append(action)\n",
        "    rewards.append(reward)\n",
        "    next_states.append(next_state)\n",
        "\n",
        "  dataset = (states, actions, rewards, next_states)\n",
        "  return dataset\n",
        "\n",
        "\n",
        "# Collect two different datasets\n",
        "num_samples = 500\n",
        "env = get_env()\n",
        "dataset_1 = get_random_policy_dataset(env, num_samples)\n",
        "dataset_2 = get_uniform_dataset(env, num_samples)\n"
      ],
      "execution_count": null,
      "outputs": []
    },
    {
      "cell_type": "code",
      "metadata": {
        "id": "ExpxEp8WSHFz"
      },
      "source": [
        "# Item 3: Estimate the MDP with the two datasets; compare the optimal value\n",
        "# functions in the true and in the estimated MDPs\n",
        "def estimate_reward_and_transition(dataset, Ns, Na):\n",
        "    states, actions, rewards, next_states = dataset\n",
        "    N_samples = len(states)\n",
        "    R = np.zeros((Ns, Na))\n",
        "    P = np.zeros((Ns, Na, Ns)) # s, a, s'\n",
        "    count = dict()\n",
        "\n",
        "    for i in range(N_samples):\n",
        "        s, a, r, next_s = states[i], actions[i], rewards[i], next_states[i]\n",
        "        if (s, a) in count:\n",
        "            count[(s, a)] += 1\n",
        "        else:\n",
        "            count[(s, a)] = 1\n",
        "\n",
        "        R[s, a] += r\n",
        "        P[s, a, next_s] += 1\n",
        "\n",
        "    for (s,a), freq in count.items():\n",
        "        R[s, a] /= freq\n",
        "        P[s, a, :] /= freq\n",
        "    return R, P\n",
        "\n",
        "R1, P1 = estimate_reward_and_transition(dataset_1, env.Ns, env.Na)\n",
        "R2, P2 = estimate_reward_and_transition(dataset_2, env.Ns, env.Na)"
      ],
      "execution_count": null,
      "outputs": []
    },
    {
      "cell_type": "code",
      "metadata": {
        "id": "_vT1FLloVy0z",
        "colab": {
          "base_uri": "https://localhost:8080/"
        },
        "outputId": "4542197c-7409-454e-9031-cc0c9296d54c"
      },
      "source": [
        "# Compare results with those obtained with the full MDP\n",
        "\n",
        "policy_opt, value_opt = policy_iteration(env.P, env.R, gamma=gamma, tol=tol)\n",
        "policy_1, value_1 = policy_iteration(P1, R1, gamma=gamma, tol=tol)\n",
        "policy_2, value_2 = policy_iteration(P2, R2, gamma=gamma, tol=tol)\n",
        "\n",
        "error1 = np.linalg.norm(value_1 - value_opt, ord=np.inf)\n",
        "error2 = np.linalg.norm(value_2 - value_opt, ord=np.inf)\n",
        "\n",
        "print(f'||V1* - v* ||: {error1}')\n",
        "print(f'||V2* - v* ||: {error2}')\n",
        "\n",
        "\n",
        "print(f'N° states where policy_1 and policy_opt differ: {np.sum(policy_1 !=policy_opt)}')\n",
        "print(f'N° states where policy_2 and policy_opt differ: {np.sum(policy_2 !=policy_opt)}')\n"
      ],
      "execution_count": null,
      "outputs": [
        {
          "output_type": "stream",
          "name": "stdout",
          "text": [
            "||V1* - v* ||: 99.99999999999993\n",
            "||V2* - v* ||: 2.9610444373351186\n",
            "N° states where policy_1 and policy_opt differ: 30\n",
            "N° states where policy_2 and policy_opt differ: 9\n"
          ]
        }
      ]
    },
    {
      "cell_type": "markdown",
      "metadata": {
        "id": "UKINsa_yGLGL"
      },
      "source": [
        "## Question 2.2\n",
        "\n",
        "Suppose that $\\hat{P}$ and $\\hat{R}$ are estimated from a dataset of exactly $N$ i.i.d. samples from **each** state-action pair. This means that, for each $(s,a)$, we have $N$ samples $\\{(s_1',r_1, \\dots, s_N', r_N\\}$, where $s_i' \\sim P(\\cdot | s,a)$ and $r_i \\sim R(s,a)$ for $i=1,\\dots,N$, and\n",
        "$$ \\hat{P}(s'|s,a) = \\frac{1}{N}\\sum_{i=1}^N \\mathbb{1}(s_i' = s'), $$\n",
        "$$ \\hat{R}(s,a) = \\frac{1}{N}\\sum_{i=1}^N r_i.$$\n",
        "Suppose that $R$ is a distribution with support in $[0,1]$. Let $\\hat{V}$ be the optimal value function computed in the empirical MDP (i.e., the one with transitions $\\hat{P}$ and rewards $\\hat{R}$). For any $\\delta\\in(0,1)$, derive an upper bound to the error\n",
        "\n",
        "$$ \\| \\hat{V} - V^* \\|_\\infty $$\n",
        "\n",
        "which holds with probability at least $1-\\delta$.\n",
        "\n",
        "**Note** Your bound should only depend on deterministic quantities like $N$, $\\gamma$, $\\delta$, $S$, $A$. It should *not* dependent on the actual random samples.\n",
        "\n",
        "**Hint** The following two inequalities may be helpful.\n",
        "\n",
        "1. **A (simplified) simulation lemma**. For any state $\\bar{s}$,\n",
        "\n",
        "$$ |\\hat{V}(\\bar{s}) - V^*(\\bar{s})| \\leq \\frac{1}{1-\\gamma}\\max_{s,a} \\left| R(s,a) - \\hat{R}(s,a) + \\gamma \\sum_{s'}(P(s'|s,a) - \\hat{P}(s'|s,a)) V^*(s') \\right|$$\n",
        "\n",
        "2. **Hoeffding's inequality**. Let $X_1, \\dots X_N$ be $N$ i.i.d. random variables bounded in the interval $[0,b]$ for some $b>0$. Let $\\bar{X} = \\frac{1}{N}\\sum_{i=1}^N X_i$ be the empirical mean. Then, for any $\\epsilon > 0$,\n",
        "\n",
        "$$ \\mathbb{P}(|\\bar{X} - \\mathbb{E}[\\bar{X}]| > \\epsilon) \\leq 2e^{-\\frac{2N\\epsilon^2}{b^2}}.$$"
      ]
    },
    {
      "cell_type": "markdown",
      "metadata": {
        "id": "fKmdulLaMoiN"
      },
      "source": [
        "### **Answer**\n",
        "\n",
        "For the simulation lemma we have that for all $\\bar{s}$:\n",
        "\n",
        "$ |\\hat{V}(\\bar{s}) - V^*(\\bar{s})| \\leq \\frac{1}{1-\\gamma}\\max_{s,a} \\left| R(s,a) - \\hat{R}(s,a) + \\gamma \\sum_{s'}(P(s'|s,a) - \\hat{P}(s'|s,a)) V^*(s') \\right|$\n",
        "\n",
        "$ ||\\hat{V} - V^*||_\\infty \\leq \\frac{1}{1-\\gamma}\\max_{s,a} \\left| R(s,a) - \\hat{R}(s,a) \\right| +  \\frac{\\gamma}{1-\\gamma} \\max_{s,a} \\left|\\sum_{s'}(P(s'|s,a) - \\hat{P}(s'|s,a)) V^*(s') \\right|$\n",
        "\n",
        "\n",
        "$ ||\\hat{V} - V^*||_\\infty \\leq \\frac{1}{1-\\gamma}\\max_{s,a} \\left| R(s,a) - \\hat{R}(s,a) \\right| + \\frac{\\gamma}{1-\\gamma} \\max_{s,a} \\sum_{s'} \\left|(P(s'|s,a) - \\hat{P}(s'|s,a))\\right| |V^*(s')|$\n",
        "\n",
        "$ ||\\hat{V} - V^*||_\\infty \\leq \\frac{1}{1-\\gamma}\\max_{s,a} \\left| R(s,a) - \\hat{R}(s,a) \\right| + \\frac{\\gamma}{1-\\gamma}  \\sum_{s'}\\max_{s,a} \\left|(P(s'|s,a) - \\hat{P}(s'|s,a))\\right| |V^*(s')|$\n",
        "\n",
        "Since $R$ is bounded in $[0,1]$ then $|V^*(s)| \\leq \\frac{1}{1-\\gamma}$ for all $s$:\n",
        "\n",
        "$$ ||\\hat{V} - V^*||_\\infty \\leq \\frac{1}{1-\\gamma}\\max_{s,a} \\left| R(s,a) - \\hat{R}(s,a) \\right| + \\frac{\\gamma}{(1-\\gamma)^2} \\sum_{s'} \\max_{s,a} \\left|(P(s'|s,a) - \\hat{P}(s'|s,a))\\right| $$\n",
        "\n",
        "\n",
        "Let $\\epsilon > 0$, using of the Hoeffding's Inequality we know that\n",
        "\n",
        "$\\mathbb{P}(\\max_{s,a} \\left| R(s,a) - \\hat{R}(s,a) \\right| \\leq \\epsilon) = \\mathbb{P}(\\left| R(s,a) - \\hat{R}(s,a) \\right| \\leq \\epsilon)^{SA} \\geq (1 - 2e^{-2N\\epsilon^2})^{SA}$\n",
        "\n",
        "$\\mathbb{P}(\\max_{s,a} \\left| P(s,a) - \\hat{P}(s,a) \\right| \\leq \\epsilon) = \\mathbb{P}(\\left| P(s,a) - \\hat{P}(s,a) \\right| \\leq \\epsilon)^{SA} \\geq (1 - 2e^{-2N\\epsilon^2})^{SA}$\n",
        "\n",
        "So far we have:\n",
        "\n",
        "$$ ||\\hat{V} - V^*||_\\infty \\leq \\frac{1}{1-\\gamma}\\epsilon + \\frac{\\gamma S}{(1-\\gamma)^2} \\epsilon  = \\epsilon \\frac{1+\\gamma(S-1)}{(1-\\gamma)^2}$$\n",
        "\n",
        "Then it follows that:\n",
        "\n",
        "$$\\mathbb{P}\\left(||\\hat{V} - V^*||_\\infty \\leq \\epsilon\\frac{1+\\gamma(S-1)}{(1-\\gamma)^2}\\right)  \\geq (1 - 2e^{-2N\\epsilon^2})^{2SA}$$\n",
        "\n",
        "Then we impose\n",
        "\n",
        "$(1 - 2e^{-2N\\epsilon^2})^{2SA} = 1 - \\delta$. Therefore $\\epsilon = \\sqrt{\\frac{1}{2N}\\log\\left(\\frac{2}{1-\\sqrt[2SA]{1-\\delta}}\\right)}$\n",
        "\n",
        "\n",
        "To sum up: if we want $\\mathbb{P}\\left(||\\hat{V} - V^*||_\\infty \\leq B_\\delta \\right) \\geq 1 - \\delta$ the bound is:\n",
        "\n",
        "$$B_\\delta = \\frac{1+\\gamma(S-1)}{(1-\\gamma)^2}\\sqrt{\\frac{1}{2N}\\log\\left(\\frac{2}{1-\\sqrt[2SA]{1-\\delta}}\\right)}$$\n",
        "\n"
      ]
    },
    {
      "cell_type": "markdown",
      "metadata": {
        "id": "tpqwCBG2MwxO"
      },
      "source": [
        "## Question 2.3\n",
        "\n",
        "Suppose once again that we are given a dataset of $N$ samples in the form of tuples $(s_i,a_i,s_i',r_i)$. We know that each tuple contains a valid transition from the true MDP, i.e., $s_i' \\sim P(\\cdot | s_i, a_i)$ and $r_i \\sim R(s_i,a_i)$, while the state-action pairs $(s_i,a_i)$ from which the transition started can be arbitrary.\n",
        "\n",
        "Suppose we want to apply Q-learning to this MDP. Can you think of a way to leverage this offline data to improve the sample-efficiency of the algorithm? What if we were using SARSA instead?"
      ]
    },
    {
      "cell_type": "markdown",
      "metadata": {
        "id": "mbYTKetHOYU_"
      },
      "source": [
        "\n",
        "### **Answer**\n",
        "\n",
        "a) Since Q-learning is off-policy, we could leverage the offline data by using a model based procedure similar to Dyna-Q. This means that after the Q-Learning update we can estimate the MDP model and add a planning step using the offline data as \"replay experience\".\n",
        "\n",
        "b) SARSA is on-policy (the TD update is done using the same policy used to sample actions). So, if we use the dataset to make updates on $\\hat{Q}$ we are not actually using the SARSA policy.\n"
      ]
    },
    {
      "cell_type": "markdown",
      "metadata": {
        "id": "542QxKsSOs21"
      },
      "source": [
        "# Part 3 - RL with Function Approximation"
      ]
    },
    {
      "cell_type": "markdown",
      "metadata": {
        "id": "OiGZBiJ4PiIE"
      },
      "source": [
        "## Question 3.1\n",
        "\n",
        "Given a datset $(s_i, a_i, r_i, s_i')$ of (states, actions, rewards, next states), the Fitted Q-Iteration (FQI) algorithm proceeds as follows:\n",
        "\n",
        "\n",
        "* We start from a $Q$ function $Q_0 \\in \\mathcal{F}$, where $\\mathcal{F}$ is a function space;\n",
        "* At every iteration $k$, we compute $Q_{k+1}$ as:\n",
        "\n",
        "$$\n",
        "Q_{k+1}\\in\\arg\\min_{f\\in\\mathcal{F}} \\frac{1}{2}\\sum_{i=1}^N\n",
        "\\left(\n",
        "  f(s_i, a_i) - y_i^k\n",
        "\\right)^2 + \\lambda \\Omega(f)\n",
        "$$\n",
        "where $y_i^k = r_i + \\gamma \\max_{a'}Q_k(s_i', a')$, $\\Omega(f)$ is a regularization term and $\\lambda > 0$ is the regularization coefficient.\n",
        "\n",
        "\n",
        "Consider FQI with *linear* function approximation. That is, for a given feature map $\\phi : S \\rightarrow \\mathbb{R}^d$, we consider a parametric family of $Q$ functions $Q_\\theta(s,a) = \\phi(s)^T\\theta_a$ for $\\theta_a\\in\\mathbb{R}^d$. Suppose we are applying FQI on a given dataset of $N$ tuples of the form $(s_i, a_i, r_i, s_i')$ and we are at the $k$-th iteration. Let $\\theta_k \\in\\mathbb{R}^{d \\times A}$ be our current parameter. Derive the *closed-form* update to find $\\theta_{k+1}$, using $\\frac{1}{2}\\sum_a ||\\theta_a||_2^2$ as regularization."
      ]
    },
    {
      "cell_type": "markdown",
      "metadata": {
        "id": "7jx7aE41DkEM"
      },
      "source": [
        "## **Answer**\n",
        "\n",
        "In the linear case we seek to minimize the following cost function $C$ with respect to $\\theta$\n",
        "$$\n",
        "C(\\theta)= \\frac{1}{2}\\sum_{i=1}^N\n",
        "\\left(\n",
        "  \\phi(s_i)^T\\theta_{a_i} - y_i^k\n",
        "\\right)^2 + \\lambda \\frac{1}{2}\\sum_a ||\\theta_a||_2^2\n",
        "$$\n",
        "\n",
        "The derivative of $C$ with respect to $\\theta_{a}$ is set to zero: \n",
        "\n",
        "$$\n",
        "\\frac{d}{d\\theta_{a_j}}C(\\theta) =\n",
        "\\sum_{i=1}^N 1_{a_i = a} \n",
        "(\n",
        "  \\phi(s_i)^T\\theta_{a_i} - y_i^k)\\phi(s_i)\n",
        "+ \\lambda\\theta_{a} = 0\n",
        "$$\n",
        "\n",
        "$$\n",
        "\\sum_{i=1/a_i=a}^N\n",
        "(\\phi(s_i)^T\\theta_{a} - y_i^k)\\phi(s_i)\n",
        "+ \\lambda\\theta_{a} = 0\n",
        "$$\n",
        "\n",
        "$$\n",
        "\\sum_{i=1/a_i=a}^N\n",
        "((\\phi(s_i)^T\\theta_{a} - y_i^k)\\phi(s_i)\n",
        "+ \\lambda\\theta_{a} = 0\n",
        "$$\n",
        "\n",
        "$$\n",
        "\\sum_{i=1/a_i=a}^N\n",
        "\\phi(s_i)\\phi(s_i)^T\\theta_{a} \n",
        "+ \\lambda\\theta_{a}\n",
        "= \\sum_{i=1/a_i=a}^N  y_i^k\\phi(s_i)\n",
        "$$\n",
        "\n",
        "$$\n",
        "\\left( \\sum_{i=1/a_i=a}^N\n",
        "\\phi(s_i)\\phi(s_i)^T\n",
        "+ \\lambda I_{d\\times d}\n",
        "\\right)\\theta_{a}\n",
        "= \\sum_{i=1/a_i=a}^N  y_i^k\\phi(s_i)\n",
        "$$\n",
        "\n",
        "Finally, we get a closed form for $\\theta_a$:\n",
        "$$\n",
        "\\theta_{a}\n",
        "= \n",
        "\\left( \\sum_{i=1/a_i=a}^N\n",
        "\\phi(s_i)\\phi(s_i)^T\n",
        "+ \\lambda I_{d\\times d}\n",
        "\\right)^{-1}\n",
        "\\sum_{i=1/a_i=a}^N  y_i^k\\phi(s_i)\n",
        "$$\n"
      ]
    },
    {
      "cell_type": "markdown",
      "metadata": {
        "id": "ewHzjm7MVGBg"
      },
      "source": [
        "## Question 3.2\n",
        "\n",
        "The code below creates a larger gridworld (with more states than the one used in the previous questions), and defines a feature map. Implement linear FQI to this environment (in the function `linear_fqi()` below), and compare the approximated $Q$ function to the optimal $Q$ function computed with value iteration. \n",
        "\n",
        "Can you improve the feature map in order to reduce the approximation error?"
      ]
    },
    {
      "cell_type": "markdown",
      "metadata": {
        "id": "Tu4g-HSnEcBs"
      },
      "source": [
        "### **Answer**\n",
        "\n",
        "In order to reduce the approximation error we increased the dimension of the feature vector from $15$ to $150$. In addition, running FQI for more iterations also reduces the error. It is also possible to use a bigger dataset. "
      ]
    },
    {
      "cell_type": "code",
      "metadata": {
        "id": "ZovF3VXOVfCs"
      },
      "source": [
        "def get_large_gridworld():\n",
        "  \"\"\"Creates an instance of a grid-world MDP with more states.\"\"\"\n",
        "  walls = [(ii, 10) for ii in range(15) if (ii != 7 and ii != 8)]\n",
        "  env = GridWorld(\n",
        "      nrows=15,\n",
        "      ncols=15,\n",
        "      reward_at = {(14, 14):1.0},\n",
        "      walls=tuple(walls),\n",
        "      success_probability=0.9,\n",
        "      terminal_states=((14, 14),)\n",
        "  )\n",
        "  return env\n",
        "\n",
        "\n",
        "class GridWorldFeatureMap:\n",
        "  \"\"\"Create features for state-action pairs\n",
        "  \n",
        "  Args:\n",
        "    dim: int\n",
        "      Feature dimension\n",
        "    sigma: float\n",
        "      RBF kernel bandwidth\n",
        "  \"\"\"\n",
        "  def __init__(self, env, dim=15, sigma=0.25):\n",
        "    self.index2coord = env.index2coord\n",
        "    self.n_states = env.Ns\n",
        "    self.n_actions = env.Na\n",
        "    self.dim = dim\n",
        "    self.sigma = sigma\n",
        "\n",
        "    n_rows = env.nrows\n",
        "    n_cols = env.ncols\n",
        "\n",
        "    # build similarity matrix\n",
        "    sim_matrix = np.zeros((self.n_states, self.n_states))\n",
        "    for ii in range(self.n_states):\n",
        "        row_ii, col_ii = self.index2coord[ii]\n",
        "        x_ii = row_ii / n_rows\n",
        "        y_ii = col_ii / n_cols\n",
        "        for jj in range(self.n_states):\n",
        "            row_jj, col_jj = self.index2coord[jj]\n",
        "            x_jj = row_jj / n_rows\n",
        "            y_jj = col_jj / n_cols\n",
        "            dist = np.sqrt((x_jj - x_ii) ** 2.0 + (y_jj - y_ii) ** 2.0)\n",
        "            sim_matrix[ii, jj] = np.exp(-(dist / sigma) ** 2.0)\n",
        "\n",
        "    # factorize similarity matrix to obtain features\n",
        "    uu, ss, vh = np.linalg.svd(sim_matrix, hermitian=True)\n",
        "    self.feats = vh[:dim, :]\n",
        "\n",
        "  def map(self, observation):\n",
        "    feat = self.feats[:, observation].copy()\n",
        "    return feat"
      ],
      "execution_count": null,
      "outputs": []
    },
    {
      "cell_type": "code",
      "metadata": {
        "id": "InCfu7F9-TbS",
        "colab": {
          "base_uri": "https://localhost:8080/",
          "height": 505
        },
        "outputId": "155c47bf-fa77-4b65-e5e9-5f48ecfe0d2c"
      },
      "source": [
        "env = get_large_gridworld()\n",
        "feat_map = GridWorldFeatureMap(env)\n",
        "\n",
        "# Visualize large gridworld\n",
        "render_policy(env)\n",
        "\n",
        "# The features have dimension (feature_dim).\n",
        "feature_example = feat_map.map(1) # feature representation of s=1\n",
        "print(feature_example)\n",
        "\n",
        "# Initial vector theta representing the Q function\n",
        "theta = np.zeros((feat_map.dim, env.action_space.n))\n",
        "print(theta.shape)\n",
        "print(feature_example @ theta) # approximation of Q(s=1, a)"
      ],
      "execution_count": null,
      "outputs": [
        {
          "output_type": "display_data",
          "data": {
            "text/html": [
              "<video alt=\"videos/gw.mp4\" autoplay\n",
              "                      loop controls style=\"height: 400px;\">\n",
              "                    <source src=\"data:video/mp4;base64,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\" type=\"video/mp4\" />\n",
              "                 </video>"
            ],
            "text/plain": [
              "<IPython.core.display.HTML object>"
            ]
          },
          "metadata": {}
        },
        {
          "output_type": "stream",
          "name": "stdout",
          "text": [
            "[-0.02850699  0.063555   -0.02169407 -0.06441918  0.04505794 -0.07537777\n",
            "  0.08506473 -0.09325287  0.09644275 -0.00535101  0.11632395 -0.13074085\n",
            "  0.00921342 -0.13853662  0.07118419]\n",
            "(15, 4)\n",
            "[0. 0. 0. 0.]\n"
          ]
        }
      ]
    },
    {
      "cell_type": "code",
      "metadata": {
        "id": "p21KMmruugO1",
        "colab": {
          "base_uri": "https://localhost:8080/",
          "height": 685
        },
        "outputId": "f580775f-bbd6-4341-9f91-8536ed8ea89f"
      },
      "source": [
        "def linear_fqi(env, feat_map, num_iterations, lambd=0.1, gamma=0.95):\n",
        "  \"\"\"\n",
        "  # Linear FQI implementation\n",
        "  # TO BE COMPLETED\n",
        "  \"\"\"\n",
        "\n",
        "  # get a dataset\n",
        "  n_samples = 10000\n",
        "  dataset = get_uniform_dataset(env, n_samples=n_samples)\n",
        "  states = np.array(dataset[0])\n",
        "  actions = np.array(dataset[1])\n",
        "  rewards = np.array(dataset[2])\n",
        "  next_states = np.array(dataset[3])\n",
        "  # OR dataset = get_random_policy_dataset(env, n_samples=...)\n",
        "\n",
        "\n",
        "  theta = np.zeros((feat_map.dim, env.Na))\n",
        "  all_features = feat_map.map(states)\n",
        "  for it in range(num_iterations):\n",
        "      Q = feat_map.map(next_states).T @ theta\n",
        "      targets = rewards + gamma * np.max(Q, axis=1) \n",
        "      for a in range(env.Na):\n",
        "          indices = np.where(actions == a)[0]\n",
        "          features = all_features[:, indices] \n",
        "          A = features @ features.T + lambd * np.eye(feat_map.dim)  # shape (d,d)\n",
        "          b = features @ targets[indices]  # shape (d,)\n",
        "          theta[:, a] = np.linalg.solve(A, b)\n",
        "    \n",
        "      \n",
        "  return theta\n",
        "\n",
        "# ----------------------------\n",
        "# Environment and feature map\n",
        "# ----------------------------\n",
        "env = get_large_gridworld()\n",
        "# you can change the parameters of the feature map, and even try other maps!\n",
        "feat_map = GridWorldFeatureMap(env, dim=150, sigma=0.25)\n",
        "\n",
        "# -------\n",
        "# Run FQI\n",
        "# -------\n",
        "theta = linear_fqi(env, feat_map, num_iterations=1000)\n",
        "\n",
        "# Compute and run greedy policy\n",
        "Q_fqi = np.zeros((env.Ns, env.Na))\n",
        "for ss in range(env.Ns):\n",
        "  state_feat = feat_map.map(ss)\n",
        "  Q_fqi[ss, :] = state_feat @ theta\n",
        "\n",
        "V_fqi = Q_fqi.max(axis=1)\n",
        "policy_fqi = Q_fqi.argmax(axis=1)\n",
        "render_policy(env, policy_fqi, horizon=100)\n",
        "\n",
        "# Visualize the approximate value function in the gridworld.\n",
        "img = env.get_layout_img(V_fqi)    \n",
        "plt.imshow(img)\n",
        "plt.title(\"FQI\")\n",
        "plt.show()"
      ],
      "execution_count": null,
      "outputs": [
        {
          "output_type": "display_data",
          "data": {
            "text/html": [
              "<video alt=\"videos/gw.mp4\" autoplay\n",
              "                      loop controls style=\"height: 400px;\">\n",
              "                    <source src=\"data:video/mp4;base64,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\" type=\"video/mp4\" />\n",
              "                 </video>"
            ],
            "text/plain": [
              "<IPython.core.display.HTML object>"
            ]
          },
          "metadata": {}
        },
        {
          "output_type": "display_data",
          "data": {
            "image/png": "[encoded data removed]",
            "text/plain": [
              "<Figure size 432x288 with 1 Axes>"
            ]
          },
          "metadata": {
            "needs_background": "light"
          }
        }
      ]
    }
  ]
}